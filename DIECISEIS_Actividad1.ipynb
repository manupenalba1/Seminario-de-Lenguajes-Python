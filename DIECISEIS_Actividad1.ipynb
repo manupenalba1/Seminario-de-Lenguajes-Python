{
 "cells": [
  {
   "cell_type": "markdown",
   "id": "b015a19f",
   "metadata": {},
   "source": [
    "# Actividad 1  por Python plus - Parte I \n",
    "\n",
    "## Resolvé el siguiente desafío:"
   ]
  },
  {
   "cell_type": "markdown",
   "id": "db6785ca",
   "metadata": {},
   "source": [
    "**EJERCICIO 16:** dado el archivo denominado [log_catedras](https://archivos.linti.unlp.edu.ar/index.php/s/ofgZh41dUYMYX6H) que contiene  el registro de  accesos al entorno catedras.linti, se desea:\n",
    "1. Generar una función que retorna la actividad de un usuario dado como parámetro. Esta función recibe un parámetro  opcional que indica: \"TODO\" para retornar la información completa, \"FACULTAD\", solo los accesos realizados desde la facultad (dirección IP comienza con \"163.10\") o \"EXTERIOR, solo los accesos realizados con una IP que no comienza con \"163.10\". Por defecto la función retorna solo los accesos desde la facultad. \n",
    "2. Escribir un programa que, utilizando la función anterior, muestre un listado similar al siguiente, donde sólo se muestra la información sobre fecha y hora de acceso, recurso accedido y dirección IP. Notar que la columna \"Recurso accedido\" no muestra todo el texto sino los primeros caracteres de modo que quede prolijo el listado.\n",
    " \n",
    "```\n",
    "Usuario: Hypno\n",
    "---------------------------------------------------\n",
    "Dia        Recurso accedido     Dir IP         Hora\n",
    "---------------------------------------------------\n",
    "3/04/23    BigBlueButton: Sala  190.19.24.34   08:41:47\n",
    "3/04/23    Tarea: Entrega 2     190.19.24.34   23:35:07\n",
    "```"
   ]
  },
  {
   "cell_type": "code",
   "execution_count": 7,
   "id": "5021bb7c",
   "metadata": {},
   "outputs": [],
   "source": [
    "#Solución INCISO 1\n",
    "import csv\n",
    "import os   \n",
    "ruta = os.path.dirname(os.path.realpath(\".\"))\n",
    "ruta_archivo=os.path.join(ruta,\"Actividad\",\"log_catedras.csv\")\n",
    "#EL NOMBRE DEL PARAMETRO TFE = TODO, FACULTAD O EXTERIOR.\n",
    "def actividad_usuario(usuario,TFE):\n",
    "    with open(ruta_archivo,'r',encoding='utf-8') as archivo:\n",
    "        registros = [r for r in csv.reader(archivo)]\n",
    "    if TFE == \"FACULTAD\":\n",
    "        actividades = [r for r in registros if r[2] == usuario and r[6].startswith(\"163.10\")]\n",
    "    elif TFE == \"EXTERIOR\":\n",
    "        actividades = [r for r in registros if r[2] == usuario and not r[6].startswith(\"163.10\")]\n",
    "    elif TFE == \"TODO\":\n",
    "        actividades = [r for r in registros if r[2] == usuario]\n",
    "    else:\n",
    "        return \"Filtro no válido\"\n",
    "    \n",
    "    return actividades if actividades else \"No se encontraron actividades para el usuario especificado.\""
   ]
  },
  {
   "cell_type": "code",
   "execution_count": 20,
   "id": "a66cd152",
   "metadata": {},
   "outputs": [
    {
     "name": "stdout",
     "output_type": "stream",
     "text": [
      "Usuario: \n",
      "-------------------------------------------------------\n",
      "Dia        Recurso accedido     Dir IP          Hora      \n",
      "-------------------------------------------------------\n"
     ]
    }
   ],
   "source": [
    "#SOLUCION INCISO 2\n",
    "#En el enunciado entiendo que los valores deben ser ingresados por consola. Al ser un paramentro opcional, doy al usuario a que aprete enter para que sea por defecto.\n",
    "usuario = input(\"Ingrese el usuario: \")\n",
    "TFE = input(\"Ingrese el filtro (TODO, FACULTAD o EXTERIOR) o presione enter para filtrar por defecto: \")\n",
    "if TFE==\"\":\n",
    "    TFE=\"FACULTAD\"\n",
    "\n",
    "actividades = actividad_usuario(usuario,TFE)\n",
    "\n",
    "print(f\"Usuario: {usuario}\")\n",
    "print(\"-\" * 55)\n",
    "print(\"{:<10} {:<20} {:<15} {:<10}\".format(\"Dia\", \"Recurso accedido\", \"Dir IP\", \"Hora\"))\n",
    "print(\"-\" * 55)\n",
    "\n",
    "#NO SUPE HACER LA TABLA"
   ]
  },
  {
   "cell_type": "code",
   "execution_count": null,
   "id": "28f0d57a",
   "metadata": {},
   "outputs": [],
   "source": []
  }
 ],
 "metadata": {
  "kernelspec": {
   "display_name": "Python 3 (ipykernel)",
   "language": "python",
   "name": "python3"
  },
  "language_info": {
   "codemirror_mode": {
    "name": "ipython",
    "version": 3
   },
   "file_extension": ".py",
   "mimetype": "text/x-python",
   "name": "python",
   "nbconvert_exporter": "python",
   "pygments_lexer": "ipython3",
   "version": "3.10.11"
  }
 },
 "nbformat": 4,
 "nbformat_minor": 5
}
